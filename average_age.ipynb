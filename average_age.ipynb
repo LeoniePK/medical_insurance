{
 "cells": [
  {
   "cell_type": "markdown",
   "metadata": {},
   "source": [
    "# Average age of persons with at least one child \n",
    "### based on U.S. Medical Insurance Data"
   ]
  },
  {
   "cell_type": "markdown",
   "metadata": {},
   "source": [
    "1. Collect the necessary variables from the insurance.csv file and store them in a list of tuples."
   ]
  },
  {
   "cell_type": "code",
   "execution_count": 1,
   "metadata": {},
   "outputs": [],
   "source": [
    "import csv\n",
    "\n",
    "ages_to_children = []\n",
    "\n",
    "with open(\"insurance.csv\") as insurance_csv:\n",
    "    insurance_data = csv.DictReader(insurance_csv)\n",
    "    for entry in insurance_data:\n",
    "        ages_to_children.append((int(entry[\"age\"]), int(entry[\"children\"])))"
   ]
  },
  {
   "cell_type": "markdown",
   "metadata": {},
   "source": [
    "2. Iterate over the list of tuples and calculate the average age of persons with at least one child."
   ]
  },
  {
   "cell_type": "code",
   "execution_count": 2,
   "metadata": {},
   "outputs": [],
   "source": [
    "relevant_entrys_count = 0\n",
    "total_ages = 0\n",
    "\n",
    "for entry in ages_to_children:\n",
    "    # Children >= 1\n",
    "    if entry[1] >= 1:\n",
    "        relevant_entrys_count += 1\n",
    "        # total_ages += Age\n",
    "        total_ages += entry[0]\n",
    "        \n",
    "# Calculate Average\n",
    "average_age = int(total_ages / relevant_entrys_count)"
   ]
  },
  {
   "cell_type": "markdown",
   "metadata": {},
   "source": [
    "3. Output the result of the research and put them into context."
   ]
  },
  {
   "cell_type": "code",
   "execution_count": 3,
   "metadata": {},
   "outputs": [
    {
     "name": "stdout",
     "output_type": "stream",
     "text": [
      "Based on the U.S. Medical Insurance Data the average age of persons with at least one child is about 39 years.\n"
     ]
    }
   ],
   "source": [
    "print(\"Based on the U.S. Medical Insurance Data the average age of persons with at least one child is about \" + str(average_age) + \" years.\")"
   ]
  }
 ],
 "metadata": {
  "kernelspec": {
   "display_name": "Python 3 (ipykernel)",
   "language": "python",
   "name": "python3"
  },
  "language_info": {
   "codemirror_mode": {
    "name": "ipython",
    "version": 3
   },
   "file_extension": ".py",
   "mimetype": "text/x-python",
   "name": "python",
   "nbconvert_exporter": "python",
   "pygments_lexer": "ipython3",
   "version": "3.11.3"
  }
 },
 "nbformat": 4,
 "nbformat_minor": 4
}
